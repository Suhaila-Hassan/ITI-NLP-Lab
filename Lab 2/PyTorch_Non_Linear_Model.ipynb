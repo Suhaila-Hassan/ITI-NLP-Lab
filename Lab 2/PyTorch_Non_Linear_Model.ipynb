{
  "nbformat": 4,
  "nbformat_minor": 0,
  "metadata": {
    "colab": {
      "provenance": [],
      "include_colab_link": true
    },
    "kernelspec": {
      "name": "python3",
      "display_name": "Python 3"
    },
    "language_info": {
      "name": "python"
    }
  },
  "cells": [
    {
      "cell_type": "markdown",
      "metadata": {
        "id": "view-in-github",
        "colab_type": "text"
      },
      "source": [
        "<a href=\"https://colab.research.google.com/github/Suhaila-Hassan/ITI-NLP-Lab/blob/main/Lab%202/PyTorch_Non_Linear_Model.ipynb\" target=\"_parent\"><img src=\"https://colab.research.google.com/assets/colab-badge.svg\" alt=\"Open In Colab\"/></a>"
      ]
    },
    {
      "cell_type": "markdown",
      "source": [
        "# PyTorch training loop and Testing loop\n",
        "\n",
        "For the training loop, we'll build the following steps:\n",
        "\n",
        "1. Forward pass\n",
        "2. Calculate the loss\n",
        "3. \tZero gradients\n",
        "4. Perform backpropagation on the loss\n",
        "5. Update the optimizer (gradient descent)"
      ],
      "metadata": {
        "id": "aaCTDideKMe0"
      }
    },
    {
      "cell_type": "code",
      "source": [
        "import torch\n",
        "import numpy as np\n",
        "import seaborn as sns\n",
        "from torch import nn\n",
        "\n",
        "torch.manual_seed(42)\n",
        "\n",
        "X = np.linspace(0,20,num=200)\n",
        "y = X + np.sin(X)*2 + np.random.normal(size=X.shape)"
      ],
      "metadata": {
        "id": "BnXLe6-gLijJ"
      },
      "execution_count": 1,
      "outputs": []
    },
    {
      "cell_type": "code",
      "source": [
        "sns.scatterplot(x=X,y=y,color='Blue', label='Data')"
      ],
      "metadata": {
        "colab": {
          "base_uri": "https://localhost:8080/",
          "height": 448
        },
        "id": "Vm5axwtbE3-j",
        "outputId": "d62799fb-cf17-41f5-c8df-be8b039f7e77"
      },
      "execution_count": 2,
      "outputs": [
        {
          "output_type": "execute_result",
          "data": {
            "text/plain": [
              "<Axes: >"
            ]
          },
          "metadata": {},
          "execution_count": 2
        },
        {
          "output_type": "display_data",
          "data": {
            "text/plain": [
              "<Figure size 640x480 with 1 Axes>"
            ],
            "image/png": "[encoded data removed]"
          },
          "metadata": {}
        }
      ]
    },
    {
      "cell_type": "code",
      "source": [
        "from torch.utils.data import Dataset , DataLoader\n",
        "\n",
        "class Simple1DRegressionDataset(Dataset):\n",
        "    def __init__(self,X,y):\n",
        "        super(Simple1DRegressionDataset,self).__init__()\n",
        "        self.X = X.reshape(-1,1)\n",
        "        self.y = y.reshape(-1,1)\n",
        "\n",
        "    def __getitem__(self,index):\n",
        "        return torch.tensor(self.X[index,:],dtype=torch.float32) , torch.tensor(self.y[index,:],dtype=torch.float32)\n",
        "\n",
        "    def __len__(self):\n",
        "        return self.X.shape[0]"
      ],
      "metadata": {
        "id": "2Zh5W6r7E36j"
      },
      "execution_count": 3,
      "outputs": []
    },
    {
      "cell_type": "code",
      "source": [
        "df = Simple1DRegressionDataset(X,y)\n"
      ],
      "metadata": {
        "id": "IT2wvxUME31b"
      },
      "execution_count": 4,
      "outputs": []
    },
    {
      "cell_type": "code",
      "source": [
        "df[0]\n"
      ],
      "metadata": {
        "colab": {
          "base_uri": "https://localhost:8080/"
        },
        "id": "nGuq6xVUGutr",
        "outputId": "94b06070-58fc-4dfb-8466-2b30fb16bd80"
      },
      "execution_count": 5,
      "outputs": [
        {
          "output_type": "execute_result",
          "data": {
            "text/plain": [
              "(tensor([0.]), tensor([-0.8355]))"
            ]
          },
          "metadata": {},
          "execution_count": 5
        }
      ]
    },
    {
      "cell_type": "code",
      "source": [
        "training_loader = DataLoader(Simple1DRegressionDataset(X,y),shuffle=True)"
      ],
      "metadata": {
        "id": "5FvH4p6pGxEA"
      },
      "execution_count": 6,
      "outputs": []
    },
    {
      "cell_type": "code",
      "source": [
        "data_point = next(iter(training_loader))\n",
        "data_point\n"
      ],
      "metadata": {
        "colab": {
          "base_uri": "https://localhost:8080/"
        },
        "id": "IWUOGAouHAmq",
        "outputId": "85d1a24a-a5c8-4a98-c735-77c25de2c8fe"
      },
      "execution_count": 7,
      "outputs": [
        {
          "output_type": "execute_result",
          "data": {
            "text/plain": [
              "[tensor([[8.8442]]), tensor([[8.1560]])]"
            ]
          },
          "metadata": {},
          "execution_count": 7
        }
      ]
    },
    {
      "cell_type": "code",
      "source": [
        "# construct the model using Linear block\n",
        "in_features = 1\n",
        "out_features = 1\n",
        "#model_2 = nn.Linear(in_features,out_features)\n",
        "\n",
        "model_2 = nn.Sequential(\n",
        "    nn.Linear(in_features,64),\n",
        "    nn.ReLU(),\n",
        "    nn.Linear(64,128),\n",
        "    nn.ReLU(),\n",
        "    nn.Linear(128,256),\n",
        "    nn.ReLU(),\n",
        "    nn.Linear(256,256),\n",
        "    nn.ReLU(),\n",
        "    nn.Linear(256,128),\n",
        "    nn.ReLU(),\n",
        "    nn.Linear(128,64),\n",
        "    nn.ReLU(),\n",
        "    nn.Dropout(0.2),\n",
        "    nn.Linear(64,out_features)\n",
        ")\n"
      ],
      "metadata": {
        "id": "WGHvuzGtIcYo"
      },
      "execution_count": 8,
      "outputs": []
    },
    {
      "cell_type": "code",
      "source": [
        "loss_fn = nn.MSELoss()"
      ],
      "metadata": {
        "id": "oF2u-u1_Iq2c"
      },
      "execution_count": 9,
      "outputs": []
    },
    {
      "cell_type": "code",
      "source": [
        "optimizer = torch.optim.SGD(params=model_2.parameters(),lr=0.001)"
      ],
      "metadata": {
        "id": "f3wZFVjAIsPX"
      },
      "execution_count": 10,
      "outputs": []
    },
    {
      "cell_type": "code",
      "source": [
        "# so we need now a training loop\n",
        "from tqdm.autonotebook import tqdm\n",
        "\n",
        "def train_simple_network(model,\n",
        "                        loss_fn,\n",
        "                        training_loader,\n",
        "                        epochs=5,\n",
        "                        device='cpu',\n",
        "                        optimizer=optimizer):\n",
        "\n",
        "    optimizer = torch.optim.SGD(params=model.parameters(),lr=0.001)\n",
        "\n",
        "    model.to(device)\n",
        "\n",
        "    for epoch in tqdm(range(epochs), desc=\"Epochs\"):\n",
        "\n",
        "        model = model.train()\n",
        "\n",
        "        running_loss = 0\n",
        "\n",
        "        for inputs , labels in tqdm(training_loader,desc='Batches'):\n",
        "\n",
        "            inputs = inputs.to(device)\n",
        "            labels = labels.to(device)\n",
        "\n",
        "            optimizer.zero_grad()\n",
        "\n",
        "            y_pred = model(inputs)\n",
        "\n",
        "            loss = loss_fn(y_pred, labels)\n",
        "\n",
        "            loss.backward()\n",
        "\n",
        "            optimizer.step()\n",
        "\n",
        "            running_loss += loss.item()\n",
        "            print(running_loss)\n",
        "\n"
      ],
      "metadata": {
        "id": "gsB2dY3TI9U4",
        "colab": {
          "base_uri": "https://localhost:8080/"
        },
        "outputId": "79d09c06-dfcb-4f56-9956-7c0195ec6ce5"
      },
      "execution_count": 11,
      "outputs": [
        {
          "output_type": "stream",
          "name": "stderr",
          "text": [
            "<ipython-input-11-f3caa4f47508>:2: TqdmExperimentalWarning: Using `tqdm.autonotebook.tqdm` in notebook mode. Use `tqdm.tqdm` instead to force console mode (e.g. in jupyter console)\n",
            "  from tqdm.autonotebook import tqdm\n"
          ]
        }
      ]
    },
    {
      "cell_type": "code",
      "source": [
        "device = 'cuda' if torch.cuda.is_available() else 'cpu'\n",
        "device"
      ],
      "metadata": {
        "colab": {
          "base_uri": "https://localhost:8080/",
          "height": 36
        },
        "id": "tIER-Z6rKg6c",
        "outputId": "f068dcff-e252-414c-d034-b9983ccbe014"
      },
      "execution_count": 12,
      "outputs": [
        {
          "output_type": "execute_result",
          "data": {
            "text/plain": [
              "'cpu'"
            ],
            "application/vnd.google.colaboratory.intrinsic+json": {
              "type": "string"
            }
          },
          "metadata": {},
          "execution_count": 12
        }
      ]
    },
    {
      "cell_type": "code",
      "source": [
        "train_simple_network(model_2,\n",
        "                loss_fn,\n",
        "                training_loader,\n",
        "                device=device,\n",
        "                epochs=100\n",
        "                )\n"
      ],
      "metadata": {
        "id": "bMa9hYcwKkR0"
      },
      "execution_count": null,
      "outputs": []
    },
    {
      "cell_type": "code",
      "source": [
        "# lets try our model\n",
        "model_2.to('cpu')\n",
        "\n",
        "model_2.eval()\n",
        "\n",
        "with torch.inference_mode():\n",
        "    y_pred_m2 = model_2(torch.tensor(X,dtype=torch.float32).reshape(-1,1)).cpu().numpy()"
      ],
      "metadata": {
        "id": "cySOBEuSKutl"
      },
      "execution_count": 14,
      "outputs": []
    },
    {
      "cell_type": "code",
      "source": [
        "sns.scatterplot(x=X,y=y , color='blue',label='Data')\n",
        "sns.lineplot(x=X,y=y_pred_m2.ravel(),color='red',label='Non-Linear model')\n"
      ],
      "metadata": {
        "colab": {
          "base_uri": "https://localhost:8080/",
          "height": 448
        },
        "id": "LNlE_oJwLDqT",
        "outputId": "bbb33bee-c71f-496c-a4ca-18961c97ea07"
      },
      "execution_count": 15,
      "outputs": [
        {
          "output_type": "execute_result",
          "data": {
            "text/plain": [
              "<Axes: >"
            ]
          },
          "metadata": {},
          "execution_count": 15
        },
        {
          "output_type": "display_data",
          "data": {
            "text/plain": [
              "<Figure size 640x480 with 1 Axes>"
            ],
            "image/png": "[encoded data removed]"
          },
          "metadata": {}
        }
      ]
    },
    {
      "cell_type": "code",
      "source": [],
      "metadata": {
        "id": "1p4yPWdaLFus"
      },
      "execution_count": 15,
      "outputs": []
    }
  ]
}