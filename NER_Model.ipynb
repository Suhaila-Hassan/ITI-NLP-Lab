{
 "cells": [
  {
   "cell_type": "code",
   "execution_count": null,
   "metadata": {
    "colab": {
     "base_uri": "https://localhost:8080/"
    },
    "id": "TpzWc-QV5oF7",
    "outputId": "a69801e1-b1c7-4513-f703-0263eec9be64"
   },
   "outputs": [],
   "source": [
    "!pip install datasets"
   ]
  },
  {
   "cell_type": "code",
   "execution_count": null,
   "metadata": {
    "colab": {
     "base_uri": "https://localhost:8080/"
    },
    "id": "NDFeZCyB8kgk",
    "outputId": "8e700a71-6f59-4104-9589-bfcdc242ea39"
   },
   "outputs": [],
   "source": [
    "!python -m spacy init config config.cfg --pipeline ner --lang en"
   ]
  },
  {
   "cell_type": "code",
   "execution_count": null,
   "metadata": {
    "id": "qXlJZarO2jxX"
   },
   "outputs": [],
   "source": [
    "import spacy\n",
    "from spacy.tokens import DocBin\n",
    "from datasets import load_dataset"
   ]
  },
  {
   "cell_type": "code",
   "execution_count": null,
   "metadata": {
    "colab": {
     "base_uri": "https://localhost:8080/",
     "height": 472,
     "referenced_widgets": [
      "6d02fd86ee3c4107b6daae5cc4d70126",
      "1936044965504aa38445861deaca80e1",
      "7614ada358204bf781b344d65805fd0c",
      "10e6ca0883d9400b8e9a1cf30b383b83",
      "dff819314f8b41af9e79d5b139fd6259",
      "1dd1990bd7f348a580e042eb866ef5dc",
      "fecdf80f49af4c86950dabfa7dc58c9f",
      "8faf641fdceb4c63a3a4936e107fbe61",
      "c1d09d1a38954c4cb62fe50e7fe9b312",
      "5c59bf733d024b9e80b1fd9345e1f3aa",
      "f4980ba8f3ba42c1b4d4ad4c9db7ee5b",
      "4f46c569f384442c99c77a7363045a0e",
      "949ab5773c1740b8b12f4dafe7b603e0",
      "740ba5079d02404a9aef342f5db89099",
      "6346398be72042338d51b2553b4079ca",
      "4cf6d9e19b1046b9aca014816a5d76fa",
      "32b2f0720d1a464ba4f4c2e75f7cef06",
      "fbddf5cf31e047479df82bcc12b35b93",
      "9cc5ad278ba3451688a58560688c3e38",
      "8b5cc0484a7344afbb1926df3cea7817",
      "b039260d7215451eadcc39d023fee772",
      "0705343a2f14441b9767a66e13d948cc",
      "83fe471bc76a466dbf6a959f4322afd8",
      "a576b3192dcf4a8eb35453843ef2c126",
      "69a96b43c1cd45e5b681f0c744b93473",
      "5f9587addc54421487ac82d658d89964",
      "791100c284064079825c3c6557577ad3",
      "2369c61ff32843528b90263eca88d74d",
      "7b61bdc1b897435bbddbdb0e9aa451b7",
      "2ae901b4661248cca466121227690c54",
      "398b08a496e2447c9d95e3340e8a9921",
      "00a58d50d735458aa6c3e98c5cc942bf",
      "ae0197b4ec3f42908966e712b1029167",
      "9ba5d3d0dafa481eb54fcbe18de466a7",
      "aea05fe3f2ec4edd88f5ed066bf1e9f8",
      "e89663c816d4457281a1f74daaa8ae48",
      "7870fff25071440ab9bba7120a7e6e9a",
      "efa3485b3c034c75ae2007f9419eea78",
      "43e2ddcdcab641a594449e67c244218d",
      "bb7a2ebda640410f94720efb38178eb6",
      "3035f20f5d254d9296d60138c6e071b0",
      "dbde7ff1ba6d45a6b91eb05308f552ff",
      "e2424e1d5e1b49859bc12b19b50517f9",
      "84dbaf8f9098488e81bdbc07ef6dfc94",
      "334bc0ab289d4caaabe0a0deb208bc01",
      "a991b3d5d707473bba91f07b3ad15c65",
      "d3182ae6e9da4679a220a3f263ee428d",
      "5b57ef130eef4b52a39b5c70157cffe4",
      "20d74fc291e947aaa62705604621c4f8",
      "118f197f522a4ec89f889dbfddbe37ce",
      "79b706c1f9b94fd99fedcf3b326b15af",
      "14de70666f174499928fe628c739a00e",
      "38c3eeb646a247aabe5eae5a62172630",
      "977dd8d29a2442b19e6ef5d632f5876b",
      "b8a3cb210aeb49f3a3d3a5e544d49615",
      "2cccbfc8478b43d3841ef595cfaa1d42",
      "8212d0cd162b4a7988f67cc0e04adee0",
      "178e46c94c984342956251b7c05eb316",
      "430e0cd8fa854376ba946eba28577915",
      "f60d08c4736a4a2c8b6cfeee2717c68a",
      "217bf7e85e164f159b7b4032651ea10d",
      "9f0f555b8af34456906e695291f9e8f7",
      "65cd3853ae7d4e1484531584f281a66c",
      "1ed74b10424445ce80a3c9ee1ff7c396",
      "f25a3232f6eb45c1908e9f93239a1e5e",
      "93272dea103c41db811bb1956e565e00"
     ]
    },
    "id": "K0GX1sIM428z",
    "outputId": "b63e9f75-dd11-4c97-845c-734bced6e1d3"
   },
   "outputs": [],
   "source": [
    "dataset = load_dataset(\"eriktks/conll2003\")\n",
    "\n",
    "train_dataset = dataset['train']\n",
    "val_dataset = dataset['validation']\n",
    "test_dataset = dataset['test']\n",
    "\n",
    "print(\"Train size:\", len(train_dataset))\n",
    "print(\"Validation size:\", len(val_dataset))\n",
    "print(\"Test size:\", len(test_dataset))\n",
    "\n",
    "print(train_dataset[0])"
   ]
  },
  {
   "cell_type": "code",
   "execution_count": null,
   "metadata": {
    "colab": {
     "base_uri": "https://localhost:8080/"
    },
    "id": "eCCJDMyc9Qja",
    "outputId": "81f02c35-f45e-4efd-bf0d-73cb28432482"
   },
   "outputs": [],
   "source": [
    "nlp = spacy.blank(\"en\")\n",
    "\n",
    "def convert_to_spacy(dataset, output_path):\n",
    "    doc_bin = DocBin()\n",
    "    for data in dataset:\n",
    "        tokens = data[\"tokens\"]\n",
    "        tags = data[\"ner_tags\"]\n",
    "        doc = nlp.make_doc(\" \".join(tokens))\n",
    "        ents = []\n",
    "        start = 0\n",
    "        for token, label in zip(doc, tags):\n",
    "            word = token.text\n",
    "            end = start + len(word)\n",
    "            if label != 0:\n",
    "                label_str = dataset.features[\"ner_tags\"].feature.names[label]\n",
    "                if label_str.startswith(\"B-\"):\n",
    "                    ent_start = token.idx\n",
    "                    ent_end = token.idx + len(token)\n",
    "                    ent_label = label_str[2:]\n",
    "                    ents.append(spacy.tokens.Span(doc, token.i, token.i + 1, label=ent_label))\n",
    "            start += len(word) + 1\n",
    "        doc.ents = ents\n",
    "        doc_bin.add(doc)\n",
    "    doc_bin.to_disk(output_path)\n",
    "\n",
    "convert_to_spacy(train_dataset, \"train.spacy\")\n",
    "convert_to_spacy(val_dataset, \"dev.spacy\")\n",
    "convert_to_spacy(test_dataset, \"test.spacy\")"
   ]
  },
  {
   "cell_type": "code",
   "execution_count": null,
   "metadata": {
    "colab": {
     "base_uri": "https://localhost:8080/"
    },
    "id": "MgZhF3rdGpEf",
    "outputId": "01bb8812-21cf-44b5-b3aa-2d40acddf02d"
   },
   "outputs": [],
   "source": [
    "!python -m spacy train config.cfg --output ./output --gpu-id 0"
   ]
  },
  {
   "cell_type": "code",
   "execution_count": null,
   "metadata": {
    "colab": {
     "base_uri": "https://localhost:8080/"
    },
    "id": "c5nri0_LKvIj",
    "outputId": "cb3a2f93-bab8-4e50-ddf4-8cf197fd315a"
   },
   "outputs": [],
   "source": [
    "!python -m spacy evaluate output/model-best test.spacy --gpu-id 0"
   ]
  },
  {
   "cell_type": "markdown",
   "metadata": {},
   "source": [
    "### **Note:** Train and Evaluation outputs are in seperate file."
   ]
  },
  {
   "cell_type": "code",
   "execution_count": null,
   "metadata": {
    "id": "lAjM0RFYTMa5"
   },
   "outputs": [],
   "source": []
  }
 ],
 "metadata": {
  "accelerator": "GPU",
  "colab": {
   "gpuType": "T4",
   "provenance": []
  },
  "kernelspec": {
   "display_name": "Python 3",
   "name": "python3"
  },
  "language_info": {
   "name": "python"
  }
 },
 "nbformat": 4,
 "nbformat_minor": 0
}
