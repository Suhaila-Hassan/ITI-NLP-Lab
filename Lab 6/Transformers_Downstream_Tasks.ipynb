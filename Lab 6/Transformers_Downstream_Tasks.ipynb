{
  "nbformat": 4,
  "nbformat_minor": 0,
  "metadata": {
    "colab": {
      "provenance": [],
      "authorship_tag": "ABX9TyM+hK57OO+jmSobwg5wgUus",
      "include_colab_link": true
    },
    "kernelspec": {
      "name": "python3",
      "display_name": "Python 3"
    },
    "language_info": {
      "name": "python"
    }
  },
  "cells": [
    {
      "cell_type": "markdown",
      "metadata": {
        "id": "view-in-github",
        "colab_type": "text"
      },
      "source": [
        "<a href=\"https://colab.research.google.com/github/Suhaila-Hassan/ITI-NLP-Lab/blob/main/Lab%206/Transformers_Downstream_Tasks.ipynb\" target=\"_parent\"><img src=\"https://colab.research.google.com/assets/colab-badge.svg\" alt=\"Open In Colab\"/></a>"
      ]
    },
    {
      "cell_type": "markdown",
      "source": [
        "# Libraries"
      ],
      "metadata": {
        "id": "sqnV2iQpmP62"
      }
    },
    {
      "cell_type": "code",
      "execution_count": 1,
      "metadata": {
        "id": "DghzOJ3fkL3F"
      },
      "outputs": [],
      "source": [
        "!pip install transformers datasets -q"
      ]
    },
    {
      "cell_type": "code",
      "source": [
        "from transformers import pipeline, AutoTokenizer, AutoModelWithLMHead\n",
        "\n",
        "import warnings\n",
        "warnings.filterwarnings('ignore')"
      ],
      "metadata": {
        "id": "dpkcJbtVlKzr"
      },
      "execution_count": 2,
      "outputs": []
    },
    {
      "cell_type": "markdown",
      "source": [
        "# Translation Task"
      ],
      "metadata": {
        "id": "JgDMdboVmVbL"
      }
    },
    {
      "cell_type": "code",
      "source": [
        "model = \"Helsinki-NLP/opus-mt-en-fr\"\n",
        "translator = pipeline(\"translation_en_to_fr\", model=model)"
      ],
      "metadata": {
        "id": "o65UDCT4o-eF"
      },
      "execution_count": null,
      "outputs": []
    },
    {
      "cell_type": "code",
      "source": [
        "text = \"Artificial Intelligence is transforming every aspect of our lives.\"\n",
        "translation = translator(text, max_length=25)\n",
        "print(f\"English (Original): {text}\")\n",
        "print(f\"French (Translation): {translation[0]['translation_text']}\")"
      ],
      "metadata": {
        "colab": {
          "base_uri": "https://localhost:8080/",
          "height": 53
        },
        "id": "gLyf4oIJnImm",
        "outputId": "a0425350-471e-4007-8047-e63e68a34829"
      },
      "execution_count": 4,
      "outputs": [
        {
          "output_type": "stream",
          "name": "stdout",
          "text": [
            "English (Original): Artificial Intelligence is transforming every aspect of our lives.\n",
            "French (Translation): L'Intelligence Artificielle transforme tous les aspects de notre vie.\n"
          ]
        }
      ]
    },
    {
      "cell_type": "markdown",
      "source": [
        "# Summarization Task"
      ],
      "metadata": {
        "id": "0hog3L9dmTDO"
      }
    },
    {
      "cell_type": "code",
      "source": [
        "model_name = 't5-base'\n",
        "tokenizer = AutoTokenizer.from_pretrained(model_name)\n",
        "model = AutoModelWithLMHead.from_pretrained(model_name, return_dict=True)"
      ],
      "metadata": {
        "id": "rfYkfR1ZuaoB"
      },
      "execution_count": null,
      "outputs": []
    },
    {
      "cell_type": "code",
      "source": [
        "text = \"\"\"\n",
        "Deep learning (also known as deep structured learning) is part of a\n",
        "broader family of machine learning methods based on artificial neural networks with\n",
        "representation learning. Learning can be supervised, semi-supervised or unsupervised.\n",
        "Deep-learning architectures such as deep neural networks, deep belief networks, deep reinforcement learning,\n",
        "recurrent neural networks and convolutional neural networks have been applied to\n",
        "fields including computer vision, speech recognition, natural language processing,\n",
        "machine translation, bioinformatics, drug design, medical image analysis, material\n",
        "inspection and board game programs, where they have produced results comparable to\n",
        "and in some cases surpassing human expert performance. Artificial neural networks\n",
        "(ANNs) were inspired by information processing and distributed communication nodes\n",
        "in biological systems. ANNs have various differences from biological brains. Specifically,\n",
        "neural networks tend to be static and symbolic, while the biological brain of most living organisms\n",
        "is dynamic (plastic) and analogue. The adjective \"deep\" in deep learning refers to the use of multiple\n",
        "layers in the network. Early work showed that a linear perceptron cannot be a universal classifier,\n",
        "but that a network with a nonpolynomial activation function with one hidden layer of unbounded width can.\n",
        "Deep learning is a modern variation which is concerned with an unbounded number of layers of bounded size,\n",
        "which permits practical application and optimized implementation, while retaining theoretical universality\n",
        "under mild conditions. In deep learning the layers are also permitted to be heterogeneous and to deviate widely\n",
        "from biologically informed connectionist models, for the sake of efficiency, trainability and understandability,\n",
        "whence the structured part.\n",
        "\"\"\""
      ],
      "metadata": {
        "id": "KrwoVS4nlEx-"
      },
      "execution_count": 6,
      "outputs": []
    },
    {
      "cell_type": "code",
      "source": [
        "input_text = \"summarize: \" + text\n",
        "input_ids = tokenizer.encode(input_text, return_tensors='pt', max_length=512, truncation=True)\n",
        "summary_ids = model.generate(input_ids, min_length=80, max_length=100)\n",
        "summary = tokenizer.decode(summary_ids[0])\n",
        "print(f\"Summary:\\n{summary}\")"
      ],
      "metadata": {
        "colab": {
          "base_uri": "https://localhost:8080/"
        },
        "id": "cpuNVGL8uwvN",
        "outputId": "71734ac2-3e35-4dcd-a5fe-df73f06c7ad4"
      },
      "execution_count": 7,
      "outputs": [
        {
          "output_type": "stream",
          "name": "stdout",
          "text": [
            "Summary:\n",
            "<pad> deep learning is part of a broader family of machine learning methods . deep learning can be supervised, semi-supervised or unsupervised . artificial neural networks (ANNs) were inspired by information processing in biological systems . the biological brain of most living organisms is dynamic (plastic) and analogue . a deep learning network can be supervised, semi-supervised or unsupervised .</s>\n"
          ]
        }
      ]
    },
    {
      "cell_type": "code",
      "source": [],
      "metadata": {
        "id": "VAx8KJCOvY8S"
      },
      "execution_count": 7,
      "outputs": []
    }
  ]
}