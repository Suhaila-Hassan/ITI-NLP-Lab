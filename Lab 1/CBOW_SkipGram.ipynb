{
  "nbformat": 4,
  "nbformat_minor": 0,
  "metadata": {
    "colab": {
      "provenance": [],
      "authorship_tag": "ABX9TyMlxU7UYSpMQduqPTJn4Xyf",
      "include_colab_link": true
    },
    "kernelspec": {
      "name": "python3",
      "display_name": "Python 3"
    },
    "language_info": {
      "name": "python"
    }
  },
  "cells": [
    {
      "cell_type": "markdown",
      "metadata": {
        "id": "view-in-github",
        "colab_type": "text"
      },
      "source": [
        "<a href=\"https://colab.research.google.com/github/Suhaila-Hassan/ITI-NLP-Lab/blob/main/CBOW_SkipGram.ipynb\" target=\"_parent\"><img src=\"https://colab.research.google.com/assets/colab-badge.svg\" alt=\"Open In Colab\"/></a>"
      ]
    },
    {
      "cell_type": "code",
      "source": [
        "!pip install numpy==1.23.5\n",
        "!pip install --upgrade gensim"
      ],
      "metadata": {
        "id": "kevSt4TmlTXZ"
      },
      "execution_count": null,
      "outputs": []
    },
    {
      "cell_type": "code",
      "source": [
        "import gensim.downloader as api\n",
        "import numpy as np\n",
        "\n",
        "model = api.load(\"glove-wiki-gigaword-100\")"
      ],
      "metadata": {
        "colab": {
          "base_uri": "https://localhost:8080/"
        },
        "id": "5V3lTeX1nvcI",
        "outputId": "cdf70154-475a-4ff1-e614-9a916e6a803d"
      },
      "execution_count": 1,
      "outputs": [
        {
          "output_type": "stream",
          "name": "stdout",
          "text": [
            "[==================================================] 100.0% 128.1/128.1MB downloaded\n"
          ]
        }
      ]
    },
    {
      "cell_type": "code",
      "source": [
        "def skip_gram(word, model):\n",
        "    similar_words = model.most_similar(word, topn=5)\n",
        "    return similar_words\n",
        "\n",
        "def cbow(context_words, model):\n",
        "\n",
        "    valid_words = [word for word in context_words if word in model]\n",
        "    if not valid_words:\n",
        "        return None\n",
        "\n",
        "    embeddings = [model[word] for word in valid_words]\n",
        "    avg_vec = np.mean(embeddings, axis=0)\n",
        "    predicted_words = model.similar_by_vector(avg_vec, topn=1)\n",
        "\n",
        "    return predicted_words"
      ],
      "metadata": {
        "id": "cBBdIQQWtByp"
      },
      "execution_count": 26,
      "outputs": []
    },
    {
      "cell_type": "code",
      "source": [
        "word = \"cat\"\n",
        "context_words = [\"fish\", \"rabbit\", \"dog\", \"monkey\", \"pet\"]\n",
        "print(f'Skip-Gram Model:\\n{skip_gram(word, model)}')\n",
        "print(f'CBOW Model:\\n{cbow(context_words, model)}')"
      ],
      "metadata": {
        "colab": {
          "base_uri": "https://localhost:8080/"
        },
        "id": "ZLtjFFHltRZl",
        "outputId": "ae364e53-9878-4605-c9c8-9f4b0671e33f"
      },
      "execution_count": 27,
      "outputs": [
        {
          "output_type": "stream",
          "name": "stdout",
          "text": [
            "Skip-Gram Model:\n",
            "[('dog', 0.8798074722290039), ('rabbit', 0.7424427270889282), ('cats', 0.732300341129303), ('monkey', 0.7288709878921509), ('pet', 0.719014048576355)]\n",
            "CBOW Model:\n",
            "[('cat', 0.8833650946617126)]\n"
          ]
        }
      ]
    },
    {
      "cell_type": "code",
      "source": [],
      "metadata": {
        "id": "M0NqLoo2vyjr"
      },
      "execution_count": null,
      "outputs": []
    }
  ]
}