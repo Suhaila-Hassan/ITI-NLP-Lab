{
  "nbformat": 4,
  "nbformat_minor": 0,
  "metadata": {
    "colab": {
      "provenance": [],
      "authorship_tag": "ABX9TyOjDV0GkqXTNBGxAeouvewo",
      "include_colab_link": true
    },
    "kernelspec": {
      "name": "python3",
      "display_name": "Python 3"
    },
    "language_info": {
      "name": "python"
    }
  },
  "cells": [
    {
      "cell_type": "markdown",
      "metadata": {
        "id": "view-in-github",
        "colab_type": "text"
      },
      "source": [
        "<a href=\"https://colab.research.google.com/github/Suhaila-Hassan/ITI-NLP-Lab/blob/main/CBOW_SkipGram.ipynb\" target=\"_parent\"><img src=\"https://colab.research.google.com/assets/colab-badge.svg\" alt=\"Open In Colab\"/></a>"
      ]
    },
    {
      "cell_type": "code",
      "source": [
        "!pip install numpy==1.23.5\n",
        "!pip install --upgrade gensim"
      ],
      "metadata": {
        "id": "kevSt4TmlTXZ"
      },
      "execution_count": null,
      "outputs": []
    },
    {
      "cell_type": "code",
      "source": [
        "import gensim.downloader as api\n",
        "import numpy as np\n",
        "\n",
        "model = api.load(\"glove-wiki-gigaword-100\")"
      ],
      "metadata": {
        "colab": {
          "base_uri": "https://localhost:8080/"
        },
        "id": "5V3lTeX1nvcI",
        "outputId": "cdf70154-475a-4ff1-e614-9a916e6a803d"
      },
      "execution_count": 1,
      "outputs": [
        {
          "output_type": "stream",
          "name": "stdout",
          "text": [
            "[==================================================] 100.0% 128.1/128.1MB downloaded\n"
          ]
        }
      ]
    },
    {
      "cell_type": "code",
      "source": [
        "def skip_gram(word, model):\n",
        "    similar_words = model.most_similar(word, topn=5)\n",
        "    return similar_words\n",
        "\n",
        "def cbow(context_words, model):\n",
        "    embeddings = [model[word] for word in context_words if word in model]\n",
        "    avg_vec = np.mean(embeddings, axis=0)\n",
        "    predicted_words = model.similar_by_vector(avg_vec, topn=1)\n",
        "    return predicted_words"
      ],
      "metadata": {
        "id": "cBBdIQQWtByp"
      },
      "execution_count": 2,
      "outputs": []
    },
    {
      "cell_type": "code",
      "source": [
        "word = \"cat\"\n",
        "context_words = [\"cat\", \"bird\", \"dog\", \"pet\"]\n",
        "print(f'Skip-Gram Model:\\n{skip_gram(word, model)}')\n",
        "print(f'CBOW Model:\\n{cbow(context_words, model)}')"
      ],
      "metadata": {
        "colab": {
          "base_uri": "https://localhost:8080/"
        },
        "id": "ZLtjFFHltRZl",
        "outputId": "f6441da9-2eca-4979-fee2-eec238e65364"
      },
      "execution_count": 14,
      "outputs": [
        {
          "output_type": "stream",
          "name": "stdout",
          "text": [
            "Skip-Gram Model:\n",
            "[('dog', 0.8798074722290039), ('rabbit', 0.7424427270889282), ('cats', 0.732300341129303), ('monkey', 0.7288709878921509), ('pet', 0.719014048576355)]\n",
            "CBOW Model:\n",
            "[('dog', 0.922452449798584)]\n"
          ]
        }
      ]
    },
    {
      "cell_type": "code",
      "source": [],
      "metadata": {
        "id": "M0NqLoo2vyjr"
      },
      "execution_count": null,
      "outputs": []
    }
  ]
}